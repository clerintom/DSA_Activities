{
 "cells": [
  {
   "cell_type": "markdown",
   "id": "3d728f54",
   "metadata": {},
   "source": [
    "<center><h1>ONLINE SHOPPERS INTENSION Prediction</h1></center> "
   ]
  },
  {
   "cell_type": "markdown",
   "id": "dd9857b3",
   "metadata": {},
   "source": [
    "## 1.DATA COLLECTION"
   ]
  },
  {
   "cell_type": "markdown",
   "id": "b75b0ca3",
   "metadata": {},
   "source": [
    "### 1.1 Data Source: \n",
    "http://archive.ics.uci.edu/ml/datasets/Online+Shoppers+Purchasing+Intention+Dataset"
   ]
  },
  {
   "cell_type": "markdown",
   "id": "24005a74",
   "metadata": {},
   "source": [
    "### Activity Goal\n",
    "The main objective is to design a machine learning classification system, that is able to predict an online shopper's intention ( _buy_ or _no_ _buy_ ), based on the values of the given features. \n",
    "\n",
    "Here we go for different classification algorithms, and compare their performance, in order to pick the best one."
   ]
  },
  {
   "cell_type": "markdown",
   "id": "1bfd56bf",
   "metadata": {},
   "source": [
    "\n",
    "### 1.2  Data Description: \n",
    "\n",
    "#### Numerical features\n",
    "\n",
    "The dataset consists of feature vectors belonging to 12,330 sessions. \n",
    "\n",
    "| Feature name | Feature description                                                 | Min. val | Max. val | SD     |\n",
    "|:-------------|:--------------------------------------------------------------------|:---------|:---------|:-------|\n",
    "| Admin.       | #pages visited by the visitor about account management              | 0        | 27       | 3.32   |\n",
    "| Ad. duration | #seconds spent by the visitor on account management related pages\t | 0        | 3398     | 176.70 |\n",
    "| Info.        | #informational pages visited by the visitor                         | 0        | 24       | 1.26   |\n",
    "| Info. durat. | #seconds spent by the visitor on informational pages\t             | 0        | 2549     | 140.64 |\n",
    "| Prod.        | #pages visited by visitor about product related pages\t             | 0        | 705      | 44.45  |\n",
    "| Prod.durat.  | #seconds spent by the visitor on product related pages\t             | 0        | 63,973   | 1912.3 |\n",
    "| Bounce rate  | Average bounce rate value of the pages visited by the visitor\t     | 0        | 0.2      | 0.04   |\n",
    "| Exit rate\t   | Average exit rate value of the pages visited by the visitor         | 0        | 0.2      | 0.05   |\n",
    "| Page value   | Average page value of the pages visited by the visitor\t             | 0        | 361      | 18.55  |\n",
    "| Special day  | Closeness of the site visiting time to a special day\t             | 0        | 1.0      | 0.19   |\n",
    "\n",
    "#### Categorical features\n",
    "| Feature name        | Feature description                                                      | Number of Values |\n",
    "|:--------------------|:-------------------------------------------------------------------------|:-----------------|\n",
    "| OperatingSystems    | Operating system of the visitor                                          | 8                |\n",
    "| Browser             | Browser of the visitor                                                   | 13               |\n",
    "| Region              | Geographic region from which the session has been started by the visitor | 9                |\n",
    "| TrafficType         | Traffic source (e.g., banner, SMS, direct)                               | 20               |\n",
    "| VisitorType         | Visitor type as “New Visitor,” “Returning Visitor,” and “Other”\t         | 3                |\n",
    "| Weekend             | Boolean value indicating whether the date of the visit is weekend        | 2                |\n",
    "| Month               | Month value of the visit date                                            | 12               |\n",
    "| Revenue             | Class label: whether the visit has been finalized with a transaction     | 2                |"
   ]
  },
  {
   "cell_type": "code",
   "execution_count": 1,
   "id": "52e353bb",
   "metadata": {},
   "outputs": [],
   "source": [
    "import pandas as pd \n",
    "import numpy as np\n",
    "import matplotlib.pyplot as plt\n",
    "import seaborn as sns\n",
    "\n",
    "import warnings\n",
    "warnings.filterwarnings(\"ignore\")\n",
    "\n",
    "from sklearn.model_selection import train_test_split,GridSearchCV,cross_val_score\n",
    "from sklearn.preprocessing import StandardScaler\n",
    "\n",
    "from sklearn import metrics\n",
    "from sklearn.metrics import confusion_matrix,accuracy_score,f1_score\n",
    "from sklearn.metrics import classification_report\n",
    "from pprint import pprint\n",
    "\n",
    "\n",
    "from sklearn.neighbors import KNeighborsClassifier\n",
    "from sklearn.svm import SVC\n",
    "from sklearn.linear_model import LogisticRegression\n",
    "from sklearn.ensemble import RandomForestClassifier\n",
    "from sklearn.ensemble import GradientBoostingClassifier\n",
    "from sklearn.tree import DecisionTreeClassifier"
   ]
  },
  {
   "cell_type": "markdown",
   "id": "114c6df1",
   "metadata": {},
   "source": [
    "### 1.3 Importing Dataset"
   ]
  },
  {
   "cell_type": "code",
   "execution_count": 2,
   "id": "6a265c65",
   "metadata": {},
   "outputs": [],
   "source": [
    "df=pd.read_csv(\"online_shoppers_intention.csv\")"
   ]
  },
  {
   "cell_type": "code",
   "execution_count": 3,
   "id": "8b07c110",
   "metadata": {},
   "outputs": [
    {
     "data": {
      "text/html": [
       "<div>\n",
       "<style scoped>\n",
       "    .dataframe tbody tr th:only-of-type {\n",
       "        vertical-align: middle;\n",
       "    }\n",
       "\n",
       "    .dataframe tbody tr th {\n",
       "        vertical-align: top;\n",
       "    }\n",
       "\n",
       "    .dataframe thead th {\n",
       "        text-align: right;\n",
       "    }\n",
       "</style>\n",
       "<table border=\"1\" class=\"dataframe\">\n",
       "  <thead>\n",
       "    <tr style=\"text-align: right;\">\n",
       "      <th></th>\n",
       "      <th>Administrative</th>\n",
       "      <th>Administrative_Duration</th>\n",
       "      <th>Informational</th>\n",
       "      <th>Informational_Duration</th>\n",
       "      <th>ProductRelated</th>\n",
       "      <th>ProductRelated_Duration</th>\n",
       "      <th>BounceRates</th>\n",
       "      <th>ExitRates</th>\n",
       "      <th>PageValues</th>\n",
       "      <th>SpecialDay</th>\n",
       "      <th>Month</th>\n",
       "      <th>OperatingSystems</th>\n",
       "      <th>Browser</th>\n",
       "      <th>Region</th>\n",
       "      <th>TrafficType</th>\n",
       "      <th>VisitorType</th>\n",
       "      <th>Weekend</th>\n",
       "      <th>Revenue</th>\n",
       "    </tr>\n",
       "  </thead>\n",
       "  <tbody>\n",
       "    <tr>\n",
       "      <th>0</th>\n",
       "      <td>0</td>\n",
       "      <td>0.0</td>\n",
       "      <td>0</td>\n",
       "      <td>0.0</td>\n",
       "      <td>1</td>\n",
       "      <td>0.000000</td>\n",
       "      <td>0.20</td>\n",
       "      <td>0.20</td>\n",
       "      <td>0.0</td>\n",
       "      <td>0.0</td>\n",
       "      <td>Feb</td>\n",
       "      <td>1</td>\n",
       "      <td>1</td>\n",
       "      <td>1</td>\n",
       "      <td>1</td>\n",
       "      <td>Returning_Visitor</td>\n",
       "      <td>False</td>\n",
       "      <td>False</td>\n",
       "    </tr>\n",
       "    <tr>\n",
       "      <th>1</th>\n",
       "      <td>0</td>\n",
       "      <td>0.0</td>\n",
       "      <td>0</td>\n",
       "      <td>0.0</td>\n",
       "      <td>2</td>\n",
       "      <td>64.000000</td>\n",
       "      <td>0.00</td>\n",
       "      <td>0.10</td>\n",
       "      <td>0.0</td>\n",
       "      <td>0.0</td>\n",
       "      <td>Feb</td>\n",
       "      <td>2</td>\n",
       "      <td>2</td>\n",
       "      <td>1</td>\n",
       "      <td>2</td>\n",
       "      <td>Returning_Visitor</td>\n",
       "      <td>False</td>\n",
       "      <td>False</td>\n",
       "    </tr>\n",
       "    <tr>\n",
       "      <th>2</th>\n",
       "      <td>0</td>\n",
       "      <td>0.0</td>\n",
       "      <td>0</td>\n",
       "      <td>0.0</td>\n",
       "      <td>1</td>\n",
       "      <td>0.000000</td>\n",
       "      <td>0.20</td>\n",
       "      <td>0.20</td>\n",
       "      <td>0.0</td>\n",
       "      <td>0.0</td>\n",
       "      <td>Feb</td>\n",
       "      <td>4</td>\n",
       "      <td>1</td>\n",
       "      <td>9</td>\n",
       "      <td>3</td>\n",
       "      <td>Returning_Visitor</td>\n",
       "      <td>False</td>\n",
       "      <td>False</td>\n",
       "    </tr>\n",
       "    <tr>\n",
       "      <th>3</th>\n",
       "      <td>0</td>\n",
       "      <td>0.0</td>\n",
       "      <td>0</td>\n",
       "      <td>0.0</td>\n",
       "      <td>2</td>\n",
       "      <td>2.666667</td>\n",
       "      <td>0.05</td>\n",
       "      <td>0.14</td>\n",
       "      <td>0.0</td>\n",
       "      <td>0.0</td>\n",
       "      <td>Feb</td>\n",
       "      <td>3</td>\n",
       "      <td>2</td>\n",
       "      <td>2</td>\n",
       "      <td>4</td>\n",
       "      <td>Returning_Visitor</td>\n",
       "      <td>False</td>\n",
       "      <td>False</td>\n",
       "    </tr>\n",
       "    <tr>\n",
       "      <th>4</th>\n",
       "      <td>0</td>\n",
       "      <td>0.0</td>\n",
       "      <td>0</td>\n",
       "      <td>0.0</td>\n",
       "      <td>10</td>\n",
       "      <td>627.500000</td>\n",
       "      <td>0.02</td>\n",
       "      <td>0.05</td>\n",
       "      <td>0.0</td>\n",
       "      <td>0.0</td>\n",
       "      <td>Feb</td>\n",
       "      <td>3</td>\n",
       "      <td>3</td>\n",
       "      <td>1</td>\n",
       "      <td>4</td>\n",
       "      <td>Returning_Visitor</td>\n",
       "      <td>True</td>\n",
       "      <td>False</td>\n",
       "    </tr>\n",
       "  </tbody>\n",
       "</table>\n",
       "</div>"
      ],
      "text/plain": [
       "   Administrative  Administrative_Duration  Informational  \\\n",
       "0               0                      0.0              0   \n",
       "1               0                      0.0              0   \n",
       "2               0                      0.0              0   \n",
       "3               0                      0.0              0   \n",
       "4               0                      0.0              0   \n",
       "\n",
       "   Informational_Duration  ProductRelated  ProductRelated_Duration  \\\n",
       "0                     0.0               1                 0.000000   \n",
       "1                     0.0               2                64.000000   \n",
       "2                     0.0               1                 0.000000   \n",
       "3                     0.0               2                 2.666667   \n",
       "4                     0.0              10               627.500000   \n",
       "\n",
       "   BounceRates  ExitRates  PageValues  SpecialDay Month  OperatingSystems  \\\n",
       "0         0.20       0.20         0.0         0.0   Feb                 1   \n",
       "1         0.00       0.10         0.0         0.0   Feb                 2   \n",
       "2         0.20       0.20         0.0         0.0   Feb                 4   \n",
       "3         0.05       0.14         0.0         0.0   Feb                 3   \n",
       "4         0.02       0.05         0.0         0.0   Feb                 3   \n",
       "\n",
       "   Browser  Region  TrafficType        VisitorType  Weekend  Revenue  \n",
       "0        1       1            1  Returning_Visitor    False    False  \n",
       "1        2       1            2  Returning_Visitor    False    False  \n",
       "2        1       9            3  Returning_Visitor    False    False  \n",
       "3        2       2            4  Returning_Visitor    False    False  \n",
       "4        3       1            4  Returning_Visitor     True    False  "
      ]
     },
     "execution_count": 3,
     "metadata": {},
     "output_type": "execute_result"
    }
   ],
   "source": [
    "df.head()\n"
   ]
  },
  {
   "cell_type": "code",
   "execution_count": 4,
   "id": "30999dd9",
   "metadata": {},
   "outputs": [
    {
     "name": "stdout",
     "output_type": "stream",
     "text": [
      "<class 'pandas.core.frame.DataFrame'>\n",
      "RangeIndex: 12330 entries, 0 to 12329\n",
      "Data columns (total 18 columns):\n",
      " #   Column                   Non-Null Count  Dtype  \n",
      "---  ------                   --------------  -----  \n",
      " 0   Administrative           12330 non-null  int64  \n",
      " 1   Administrative_Duration  12330 non-null  float64\n",
      " 2   Informational            12330 non-null  int64  \n",
      " 3   Informational_Duration   12330 non-null  float64\n",
      " 4   ProductRelated           12330 non-null  int64  \n",
      " 5   ProductRelated_Duration  12330 non-null  float64\n",
      " 6   BounceRates              12330 non-null  float64\n",
      " 7   ExitRates                12330 non-null  float64\n",
      " 8   PageValues               12330 non-null  float64\n",
      " 9   SpecialDay               12330 non-null  float64\n",
      " 10  Month                    12330 non-null  object \n",
      " 11  OperatingSystems         12330 non-null  int64  \n",
      " 12  Browser                  12330 non-null  int64  \n",
      " 13  Region                   12330 non-null  int64  \n",
      " 14  TrafficType              12330 non-null  int64  \n",
      " 15  VisitorType              12330 non-null  object \n",
      " 16  Weekend                  12330 non-null  bool   \n",
      " 17  Revenue                  12330 non-null  bool   \n",
      "dtypes: bool(2), float64(7), int64(7), object(2)\n",
      "memory usage: 1.5+ MB\n"
     ]
    }
   ],
   "source": [
    "#datatypes description of each field\n",
    "df.info()"
   ]
  },
  {
   "cell_type": "markdown",
   "id": "8915784e",
   "metadata": {},
   "source": [
    "#### Statistical Report"
   ]
  },
  {
   "cell_type": "code",
   "execution_count": 5,
   "id": "ee8e39a4",
   "metadata": {},
   "outputs": [
    {
     "data": {
      "text/html": [
       "<div>\n",
       "<style scoped>\n",
       "    .dataframe tbody tr th:only-of-type {\n",
       "        vertical-align: middle;\n",
       "    }\n",
       "\n",
       "    .dataframe tbody tr th {\n",
       "        vertical-align: top;\n",
       "    }\n",
       "\n",
       "    .dataframe thead th {\n",
       "        text-align: right;\n",
       "    }\n",
       "</style>\n",
       "<table border=\"1\" class=\"dataframe\">\n",
       "  <thead>\n",
       "    <tr style=\"text-align: right;\">\n",
       "      <th></th>\n",
       "      <th>Administrative</th>\n",
       "      <th>Administrative_Duration</th>\n",
       "      <th>Informational</th>\n",
       "      <th>Informational_Duration</th>\n",
       "      <th>ProductRelated</th>\n",
       "      <th>ProductRelated_Duration</th>\n",
       "      <th>BounceRates</th>\n",
       "      <th>ExitRates</th>\n",
       "      <th>PageValues</th>\n",
       "      <th>SpecialDay</th>\n",
       "      <th>OperatingSystems</th>\n",
       "      <th>Browser</th>\n",
       "      <th>Region</th>\n",
       "      <th>TrafficType</th>\n",
       "    </tr>\n",
       "  </thead>\n",
       "  <tbody>\n",
       "    <tr>\n",
       "      <th>count</th>\n",
       "      <td>12330.000000</td>\n",
       "      <td>12330.000000</td>\n",
       "      <td>12330.000000</td>\n",
       "      <td>12330.000000</td>\n",
       "      <td>12330.000000</td>\n",
       "      <td>12330.000000</td>\n",
       "      <td>12330.000000</td>\n",
       "      <td>12330.000000</td>\n",
       "      <td>12330.000000</td>\n",
       "      <td>12330.000000</td>\n",
       "      <td>12330.000000</td>\n",
       "      <td>12330.000000</td>\n",
       "      <td>12330.000000</td>\n",
       "      <td>12330.000000</td>\n",
       "    </tr>\n",
       "    <tr>\n",
       "      <th>mean</th>\n",
       "      <td>2.315166</td>\n",
       "      <td>80.818611</td>\n",
       "      <td>0.503569</td>\n",
       "      <td>34.472398</td>\n",
       "      <td>31.731468</td>\n",
       "      <td>1194.746220</td>\n",
       "      <td>0.022191</td>\n",
       "      <td>0.043073</td>\n",
       "      <td>5.889258</td>\n",
       "      <td>0.061427</td>\n",
       "      <td>2.124006</td>\n",
       "      <td>2.357097</td>\n",
       "      <td>3.147364</td>\n",
       "      <td>4.069586</td>\n",
       "    </tr>\n",
       "    <tr>\n",
       "      <th>std</th>\n",
       "      <td>3.321784</td>\n",
       "      <td>176.779107</td>\n",
       "      <td>1.270156</td>\n",
       "      <td>140.749294</td>\n",
       "      <td>44.475503</td>\n",
       "      <td>1913.669288</td>\n",
       "      <td>0.048488</td>\n",
       "      <td>0.048597</td>\n",
       "      <td>18.568437</td>\n",
       "      <td>0.198917</td>\n",
       "      <td>0.911325</td>\n",
       "      <td>1.717277</td>\n",
       "      <td>2.401591</td>\n",
       "      <td>4.025169</td>\n",
       "    </tr>\n",
       "    <tr>\n",
       "      <th>min</th>\n",
       "      <td>0.000000</td>\n",
       "      <td>0.000000</td>\n",
       "      <td>0.000000</td>\n",
       "      <td>0.000000</td>\n",
       "      <td>0.000000</td>\n",
       "      <td>0.000000</td>\n",
       "      <td>0.000000</td>\n",
       "      <td>0.000000</td>\n",
       "      <td>0.000000</td>\n",
       "      <td>0.000000</td>\n",
       "      <td>1.000000</td>\n",
       "      <td>1.000000</td>\n",
       "      <td>1.000000</td>\n",
       "      <td>1.000000</td>\n",
       "    </tr>\n",
       "    <tr>\n",
       "      <th>25%</th>\n",
       "      <td>0.000000</td>\n",
       "      <td>0.000000</td>\n",
       "      <td>0.000000</td>\n",
       "      <td>0.000000</td>\n",
       "      <td>7.000000</td>\n",
       "      <td>184.137500</td>\n",
       "      <td>0.000000</td>\n",
       "      <td>0.014286</td>\n",
       "      <td>0.000000</td>\n",
       "      <td>0.000000</td>\n",
       "      <td>2.000000</td>\n",
       "      <td>2.000000</td>\n",
       "      <td>1.000000</td>\n",
       "      <td>2.000000</td>\n",
       "    </tr>\n",
       "    <tr>\n",
       "      <th>50%</th>\n",
       "      <td>1.000000</td>\n",
       "      <td>7.500000</td>\n",
       "      <td>0.000000</td>\n",
       "      <td>0.000000</td>\n",
       "      <td>18.000000</td>\n",
       "      <td>598.936905</td>\n",
       "      <td>0.003112</td>\n",
       "      <td>0.025156</td>\n",
       "      <td>0.000000</td>\n",
       "      <td>0.000000</td>\n",
       "      <td>2.000000</td>\n",
       "      <td>2.000000</td>\n",
       "      <td>3.000000</td>\n",
       "      <td>2.000000</td>\n",
       "    </tr>\n",
       "    <tr>\n",
       "      <th>75%</th>\n",
       "      <td>4.000000</td>\n",
       "      <td>93.256250</td>\n",
       "      <td>0.000000</td>\n",
       "      <td>0.000000</td>\n",
       "      <td>38.000000</td>\n",
       "      <td>1464.157214</td>\n",
       "      <td>0.016813</td>\n",
       "      <td>0.050000</td>\n",
       "      <td>0.000000</td>\n",
       "      <td>0.000000</td>\n",
       "      <td>3.000000</td>\n",
       "      <td>2.000000</td>\n",
       "      <td>4.000000</td>\n",
       "      <td>4.000000</td>\n",
       "    </tr>\n",
       "    <tr>\n",
       "      <th>max</th>\n",
       "      <td>27.000000</td>\n",
       "      <td>3398.750000</td>\n",
       "      <td>24.000000</td>\n",
       "      <td>2549.375000</td>\n",
       "      <td>705.000000</td>\n",
       "      <td>63973.522230</td>\n",
       "      <td>0.200000</td>\n",
       "      <td>0.200000</td>\n",
       "      <td>361.763742</td>\n",
       "      <td>1.000000</td>\n",
       "      <td>8.000000</td>\n",
       "      <td>13.000000</td>\n",
       "      <td>9.000000</td>\n",
       "      <td>20.000000</td>\n",
       "    </tr>\n",
       "  </tbody>\n",
       "</table>\n",
       "</div>"
      ],
      "text/plain": [
       "       Administrative  Administrative_Duration  Informational  \\\n",
       "count    12330.000000             12330.000000   12330.000000   \n",
       "mean         2.315166                80.818611       0.503569   \n",
       "std          3.321784               176.779107       1.270156   \n",
       "min          0.000000                 0.000000       0.000000   \n",
       "25%          0.000000                 0.000000       0.000000   \n",
       "50%          1.000000                 7.500000       0.000000   \n",
       "75%          4.000000                93.256250       0.000000   \n",
       "max         27.000000              3398.750000      24.000000   \n",
       "\n",
       "       Informational_Duration  ProductRelated  ProductRelated_Duration  \\\n",
       "count            12330.000000    12330.000000             12330.000000   \n",
       "mean                34.472398       31.731468              1194.746220   \n",
       "std                140.749294       44.475503              1913.669288   \n",
       "min                  0.000000        0.000000                 0.000000   \n",
       "25%                  0.000000        7.000000               184.137500   \n",
       "50%                  0.000000       18.000000               598.936905   \n",
       "75%                  0.000000       38.000000              1464.157214   \n",
       "max               2549.375000      705.000000             63973.522230   \n",
       "\n",
       "        BounceRates     ExitRates    PageValues    SpecialDay  \\\n",
       "count  12330.000000  12330.000000  12330.000000  12330.000000   \n",
       "mean       0.022191      0.043073      5.889258      0.061427   \n",
       "std        0.048488      0.048597     18.568437      0.198917   \n",
       "min        0.000000      0.000000      0.000000      0.000000   \n",
       "25%        0.000000      0.014286      0.000000      0.000000   \n",
       "50%        0.003112      0.025156      0.000000      0.000000   \n",
       "75%        0.016813      0.050000      0.000000      0.000000   \n",
       "max        0.200000      0.200000    361.763742      1.000000   \n",
       "\n",
       "       OperatingSystems       Browser        Region   TrafficType  \n",
       "count      12330.000000  12330.000000  12330.000000  12330.000000  \n",
       "mean           2.124006      2.357097      3.147364      4.069586  \n",
       "std            0.911325      1.717277      2.401591      4.025169  \n",
       "min            1.000000      1.000000      1.000000      1.000000  \n",
       "25%            2.000000      2.000000      1.000000      2.000000  \n",
       "50%            2.000000      2.000000      3.000000      2.000000  \n",
       "75%            3.000000      2.000000      4.000000      4.000000  \n",
       "max            8.000000     13.000000      9.000000     20.000000  "
      ]
     },
     "execution_count": 5,
     "metadata": {},
     "output_type": "execute_result"
    }
   ],
   "source": [
    "df.describe()"
   ]
  },
  {
   "cell_type": "markdown",
   "id": "2d0945ba",
   "metadata": {},
   "source": [
    "### 1.4 Data Cleaning"
   ]
  },
  {
   "cell_type": "code",
   "execution_count": 6,
   "id": "e4be0b6f",
   "metadata": {},
   "outputs": [
    {
     "data": {
      "text/plain": [
       "Administrative             0\n",
       "Administrative_Duration    0\n",
       "Informational              0\n",
       "Informational_Duration     0\n",
       "ProductRelated             0\n",
       "ProductRelated_Duration    0\n",
       "BounceRates                0\n",
       "ExitRates                  0\n",
       "PageValues                 0\n",
       "SpecialDay                 0\n",
       "Month                      0\n",
       "OperatingSystems           0\n",
       "Browser                    0\n",
       "Region                     0\n",
       "TrafficType                0\n",
       "VisitorType                0\n",
       "Weekend                    0\n",
       "Revenue                    0\n",
       "dtype: int64"
      ]
     },
     "execution_count": 6,
     "metadata": {},
     "output_type": "execute_result"
    }
   ],
   "source": [
    "df.isna().sum()"
   ]
  },
  {
   "cell_type": "markdown",
   "id": "b4444ad1",
   "metadata": {},
   "source": [
    "**Dataset have no missing values**"
   ]
  },
  {
   "cell_type": "code",
   "execution_count": 7,
   "id": "65868b35",
   "metadata": {},
   "outputs": [],
   "source": [
    "df.Revenue = df.Revenue.astype('int')\n",
    "df.Weekend = df.Weekend.astype('int')"
   ]
  },
  {
   "cell_type": "code",
   "execution_count": 8,
   "id": "a81a0509",
   "metadata": {},
   "outputs": [
    {
     "name": "stdout",
     "output_type": "stream",
     "text": [
      "<class 'pandas.core.frame.DataFrame'>\n",
      "RangeIndex: 12330 entries, 0 to 12329\n",
      "Data columns (total 18 columns):\n",
      " #   Column                   Non-Null Count  Dtype  \n",
      "---  ------                   --------------  -----  \n",
      " 0   Administrative           12330 non-null  int64  \n",
      " 1   Administrative_Duration  12330 non-null  float64\n",
      " 2   Informational            12330 non-null  int64  \n",
      " 3   Informational_Duration   12330 non-null  float64\n",
      " 4   ProductRelated           12330 non-null  int64  \n",
      " 5   ProductRelated_Duration  12330 non-null  float64\n",
      " 6   BounceRates              12330 non-null  float64\n",
      " 7   ExitRates                12330 non-null  float64\n",
      " 8   PageValues               12330 non-null  float64\n",
      " 9   SpecialDay               12330 non-null  float64\n",
      " 10  Month                    12330 non-null  object \n",
      " 11  OperatingSystems         12330 non-null  int64  \n",
      " 12  Browser                  12330 non-null  int64  \n",
      " 13  Region                   12330 non-null  int64  \n",
      " 14  TrafficType              12330 non-null  int64  \n",
      " 15  VisitorType              12330 non-null  object \n",
      " 16  Weekend                  12330 non-null  int32  \n",
      " 17  Revenue                  12330 non-null  int32  \n",
      "dtypes: float64(7), int32(2), int64(7), object(2)\n",
      "memory usage: 1.6+ MB\n"
     ]
    }
   ],
   "source": [
    "df.info()"
   ]
  },
  {
   "cell_type": "markdown",
   "id": "5f072fcd",
   "metadata": {},
   "source": [
    "## 2.Data Pre-Processing"
   ]
  },
  {
   "cell_type": "markdown",
   "id": "d92bd144",
   "metadata": {},
   "source": [
    "### 2.1 Outlier Detection and Handling"
   ]
  },
  {
   "cell_type": "code",
   "execution_count": 9,
   "id": "2fd617cd",
   "metadata": {},
   "outputs": [
    {
     "data": {
      "text/plain": [
       "(12330, 18)"
      ]
     },
     "execution_count": 9,
     "metadata": {},
     "output_type": "execute_result"
    }
   ],
   "source": [
    "df.shape"
   ]
  },
  {
   "cell_type": "code",
   "execution_count": 10,
   "id": "c69ed3fb",
   "metadata": {},
   "outputs": [
    {
     "data": {
      "text/plain": [
       "<function matplotlib.pyplot.show(close=None, block=None)>"
      ]
     },
     "execution_count": 10,
     "metadata": {},
     "output_type": "execute_result"
    },
    {
     "data": {
      "image/png": "[encoded data removed]",
      "text/plain": [
       "<Figure size 1080x360 with 1 Axes>"
      ]
     },
     "metadata": {
      "needs_background": "light"
     },
     "output_type": "display_data"
    }
   ],
   "source": [
    "plt.subplots(figsize=(15,5))\n",
    "sns.boxplot(data=df,orient='h')\n",
    "plt.show"
   ]
  },
  {
   "cell_type": "code",
   "execution_count": 11,
   "id": "96fbbef6",
   "metadata": {},
   "outputs": [
    {
     "name": "stdout",
     "output_type": "stream",
     "text": [
      "Outliers detection and handling in ADMINISTRATIVE_DURATION COLUMN: \n",
      "\n",
      "The values below -139.81875000000002 and above 233.03125000000003 are outliers.\n",
      "There are 1173 outliers in Administrative_Duration column.\n",
      "size after removal of outliers in ADMINISTRATIVE_DURATION column: (11157, 18) \n",
      "\n",
      "Outliers detection and handling in PRODUCTRELATED_DURATION COLUMN: \n",
      "\n",
      "The values below -1550.6999999999998 and above 3012.5 are outliers.\n",
      "There are 851 outliers in ProductRelated_Duration column.\n",
      "size after removal of outliers in PRODUCTRELATED_DURATION column: (10306, 18) \n",
      "\n",
      "Outliers detection and handling in PAGEVALUES COLUMN: \n",
      "\n",
      "The values below 0.0 and above 0.0 are outliers.\n",
      "There are 1798 outliers in PageValues column.\n",
      "size after removal of outliers in PAGEVALUES column: (8508, 18) \n",
      "\n",
      "Outliers detection and handling in TRAFFICTYPE COLUMN: \n",
      "\n",
      "The values below -1.0 and above 7.0 are outliers.\n",
      "There are 1509 outliers in TrafficType column.\n",
      "size after removal of outliers in TRAFFICTYPE column: (6999, 18) \n",
      "\n",
      "Outliers detection and handling in INFORMATIONAL_DURATION COLUMN: \n",
      "\n",
      "The values below 0.0 and above 0.0 are outliers.\n",
      "There are 843 outliers in Informational_Duration column.\n",
      "size after removal of outliers in INFORMATIONAL_DURATION column: (6156, 18) \n",
      "\n",
      "Outliers detection and handling in OPERATINGSYSTEMS COLUMN: \n",
      "\n",
      "The values below 2.0 and above 2.0 are outliers.\n",
      "There are 2883 outliers in OperatingSystems column.\n",
      "size after removal of outliers in OPERATINGSYSTEMS column: (4722, 18) \n",
      "\n",
      "Outliers detection and handling in INFORMATIONAL COLUMN: \n",
      "\n",
      "The values below 0.0 and above 0.0 are outliers.\n",
      "There are 82 outliers in Informational column.\n",
      "size after removal of outliers in INFORMATIONAL column: (4640, 18) \n",
      "\n"
     ]
    }
   ],
   "source": [
    "outliers=['Administrative_Duration','ProductRelated_Duration','PageValues','TrafficType','Informational_Duration',\n",
    "          'OperatingSystems','Informational']\n",
    "ind1,ind2,i1,i2=[],[],[],[]\n",
    "\n",
    "\n",
    "for i in outliers:\n",
    "    print('Outliers detection and handling in',i.upper(),'COLUMN: \\n')\n",
    "    Q1=np.percentile(df[i],25,interpolation='midpoint')\n",
    "    Q2=np.percentile(df[i],50,interpolation='midpoint')\n",
    "    Q3=np.percentile(df[i],75,interpolation='midpoint')\n",
    "\n",
    "    IQR = Q3-Q1\n",
    "    low_lim = Q1-1.5*IQR\n",
    "    up_lim = Q3+1.5*IQR\n",
    "    \n",
    "    print('The values below',low_lim,'and above',up_lim,'are outliers.')\n",
    "    \n",
    "    outlier=[]\n",
    "    for x in df[i]:\n",
    "        if x > up_lim or x < low_lim:\n",
    "            outlier.append(x)\n",
    "            \n",
    "    print('There are',len(outlier),'outliers in',i,'column.')\n",
    "            \n",
    "    ind1,ind2=df[i] > up_lim, df[i]\n",
    "    i1=df.loc[ind1].index\n",
    "\n",
    "    df.drop(i1,inplace=True)\n",
    "    \n",
    "    print('size after removal of outliers in',i.upper(),'column:',df.shape,'\\n')"
   ]
  },
  {
   "cell_type": "code",
   "execution_count": 12,
   "id": "7bad08d8",
   "metadata": {},
   "outputs": [
    {
     "data": {
      "text/plain": [
       "(4640, 18)"
      ]
     },
     "execution_count": 12,
     "metadata": {},
     "output_type": "execute_result"
    }
   ],
   "source": [
    "df.shape"
   ]
  },
  {
   "cell_type": "code",
   "execution_count": 13,
   "id": "36d931f1",
   "metadata": {},
   "outputs": [
    {
     "data": {
      "text/plain": [
       "<function matplotlib.pyplot.show(close=None, block=None)>"
      ]
     },
     "execution_count": 13,
     "metadata": {},
     "output_type": "execute_result"
    },
    {
     "data": {
      "image/png": "[encoded data removed]",
      "text/plain": [
       "<Figure size 1080x360 with 1 Axes>"
      ]
     },
     "metadata": {
      "needs_background": "light"
     },
     "output_type": "display_data"
    }
   ],
   "source": [
    "plt.subplots(figsize=(15,5))\n",
    "sns.boxplot(data=df,orient='h')\n",
    "plt.show"
   ]
  },
  {
   "cell_type": "code",
   "execution_count": 14,
   "id": "727221da",
   "metadata": {},
   "outputs": [
    {
     "data": {
      "text/plain": [
       "(4640, 18)"
      ]
     },
     "execution_count": 14,
     "metadata": {},
     "output_type": "execute_result"
    }
   ],
   "source": [
    "df.shape"
   ]
  },
  {
   "cell_type": "markdown",
   "id": "bcc31229",
   "metadata": {},
   "source": [
    "### 2.2 Feature Reduction"
   ]
  },
  {
   "cell_type": "code",
   "execution_count": 15,
   "id": "b1f5373b",
   "metadata": {},
   "outputs": [
    {
     "data": {
      "text/plain": [
       "Index(['Administrative', 'Administrative_Duration', 'Informational',\n",
       "       'Informational_Duration', 'ProductRelated', 'ProductRelated_Duration',\n",
       "       'BounceRates', 'ExitRates', 'PageValues', 'SpecialDay', 'Month',\n",
       "       'OperatingSystems', 'Browser', 'Region', 'TrafficType', 'VisitorType',\n",
       "       'Weekend', 'Revenue'],\n",
       "      dtype='object')"
      ]
     },
     "execution_count": 15,
     "metadata": {},
     "output_type": "execute_result"
    }
   ],
   "source": [
    "df.columns\n"
   ]
  },
  {
   "cell_type": "code",
   "execution_count": 16,
   "id": "b965fc50",
   "metadata": {},
   "outputs": [
    {
     "data": {
      "text/plain": [
       "(4640, 15)"
      ]
     },
     "execution_count": 16,
     "metadata": {},
     "output_type": "execute_result"
    }
   ],
   "source": [
    "#Dropping columns\n",
    "df.drop(labels=['Region','TrafficType','SpecialDay'],axis=1,inplace=True)\n",
    "df.shape"
   ]
  },
  {
   "cell_type": "code",
   "execution_count": 17,
   "id": "e3fa44bb",
   "metadata": {},
   "outputs": [
    {
     "data": {
      "text/html": [
       "<div>\n",
       "<style scoped>\n",
       "    .dataframe tbody tr th:only-of-type {\n",
       "        vertical-align: middle;\n",
       "    }\n",
       "\n",
       "    .dataframe tbody tr th {\n",
       "        vertical-align: top;\n",
       "    }\n",
       "\n",
       "    .dataframe thead th {\n",
       "        text-align: right;\n",
       "    }\n",
       "</style>\n",
       "<table border=\"1\" class=\"dataframe\">\n",
       "  <thead>\n",
       "    <tr style=\"text-align: right;\">\n",
       "      <th></th>\n",
       "      <th>Administrative</th>\n",
       "      <th>Administrative_Duration</th>\n",
       "      <th>Informational</th>\n",
       "      <th>Informational_Duration</th>\n",
       "      <th>ProductRelated</th>\n",
       "      <th>ProductRelated_Duration</th>\n",
       "      <th>BounceRates</th>\n",
       "      <th>ExitRates</th>\n",
       "      <th>PageValues</th>\n",
       "      <th>Month_Aug</th>\n",
       "      <th>...</th>\n",
       "      <th>Browser_7</th>\n",
       "      <th>Browser_8</th>\n",
       "      <th>Browser_10</th>\n",
       "      <th>Browser_12</th>\n",
       "      <th>VisitorType_New_Visitor</th>\n",
       "      <th>VisitorType_Other</th>\n",
       "      <th>VisitorType_Returning_Visitor</th>\n",
       "      <th>Weekend_0</th>\n",
       "      <th>Weekend_1</th>\n",
       "      <th>Revenue</th>\n",
       "    </tr>\n",
       "  </thead>\n",
       "  <tbody>\n",
       "    <tr>\n",
       "      <th>0</th>\n",
       "      <td>0</td>\n",
       "      <td>0.0</td>\n",
       "      <td>0</td>\n",
       "      <td>0.0</td>\n",
       "      <td>1</td>\n",
       "      <td>0.000000</td>\n",
       "      <td>0.200000</td>\n",
       "      <td>0.200000</td>\n",
       "      <td>0.0</td>\n",
       "      <td>0</td>\n",
       "      <td>...</td>\n",
       "      <td>0</td>\n",
       "      <td>0</td>\n",
       "      <td>0</td>\n",
       "      <td>0</td>\n",
       "      <td>0</td>\n",
       "      <td>0</td>\n",
       "      <td>1</td>\n",
       "      <td>1</td>\n",
       "      <td>0</td>\n",
       "      <td>0</td>\n",
       "    </tr>\n",
       "    <tr>\n",
       "      <th>1</th>\n",
       "      <td>0</td>\n",
       "      <td>0.0</td>\n",
       "      <td>0</td>\n",
       "      <td>0.0</td>\n",
       "      <td>2</td>\n",
       "      <td>64.000000</td>\n",
       "      <td>0.000000</td>\n",
       "      <td>0.100000</td>\n",
       "      <td>0.0</td>\n",
       "      <td>0</td>\n",
       "      <td>...</td>\n",
       "      <td>0</td>\n",
       "      <td>0</td>\n",
       "      <td>0</td>\n",
       "      <td>0</td>\n",
       "      <td>0</td>\n",
       "      <td>0</td>\n",
       "      <td>1</td>\n",
       "      <td>1</td>\n",
       "      <td>0</td>\n",
       "      <td>0</td>\n",
       "    </tr>\n",
       "    <tr>\n",
       "      <th>5</th>\n",
       "      <td>0</td>\n",
       "      <td>0.0</td>\n",
       "      <td>0</td>\n",
       "      <td>0.0</td>\n",
       "      <td>19</td>\n",
       "      <td>154.216667</td>\n",
       "      <td>0.015789</td>\n",
       "      <td>0.024561</td>\n",
       "      <td>0.0</td>\n",
       "      <td>0</td>\n",
       "      <td>...</td>\n",
       "      <td>0</td>\n",
       "      <td>0</td>\n",
       "      <td>0</td>\n",
       "      <td>0</td>\n",
       "      <td>0</td>\n",
       "      <td>0</td>\n",
       "      <td>1</td>\n",
       "      <td>1</td>\n",
       "      <td>0</td>\n",
       "      <td>0</td>\n",
       "    </tr>\n",
       "    <tr>\n",
       "      <th>6</th>\n",
       "      <td>0</td>\n",
       "      <td>0.0</td>\n",
       "      <td>0</td>\n",
       "      <td>0.0</td>\n",
       "      <td>1</td>\n",
       "      <td>0.000000</td>\n",
       "      <td>0.200000</td>\n",
       "      <td>0.200000</td>\n",
       "      <td>0.0</td>\n",
       "      <td>0</td>\n",
       "      <td>...</td>\n",
       "      <td>0</td>\n",
       "      <td>0</td>\n",
       "      <td>0</td>\n",
       "      <td>0</td>\n",
       "      <td>0</td>\n",
       "      <td>0</td>\n",
       "      <td>1</td>\n",
       "      <td>1</td>\n",
       "      <td>0</td>\n",
       "      <td>0</td>\n",
       "    </tr>\n",
       "    <tr>\n",
       "      <th>7</th>\n",
       "      <td>1</td>\n",
       "      <td>0.0</td>\n",
       "      <td>0</td>\n",
       "      <td>0.0</td>\n",
       "      <td>0</td>\n",
       "      <td>0.000000</td>\n",
       "      <td>0.200000</td>\n",
       "      <td>0.200000</td>\n",
       "      <td>0.0</td>\n",
       "      <td>0</td>\n",
       "      <td>...</td>\n",
       "      <td>0</td>\n",
       "      <td>0</td>\n",
       "      <td>0</td>\n",
       "      <td>0</td>\n",
       "      <td>0</td>\n",
       "      <td>0</td>\n",
       "      <td>1</td>\n",
       "      <td>0</td>\n",
       "      <td>1</td>\n",
       "      <td>0</td>\n",
       "    </tr>\n",
       "  </tbody>\n",
       "</table>\n",
       "<p>5 rows × 36 columns</p>\n",
       "</div>"
      ],
      "text/plain": [
       "   Administrative  Administrative_Duration  Informational  \\\n",
       "0               0                      0.0              0   \n",
       "1               0                      0.0              0   \n",
       "5               0                      0.0              0   \n",
       "6               0                      0.0              0   \n",
       "7               1                      0.0              0   \n",
       "\n",
       "   Informational_Duration  ProductRelated  ProductRelated_Duration  \\\n",
       "0                     0.0               1                 0.000000   \n",
       "1                     0.0               2                64.000000   \n",
       "5                     0.0              19               154.216667   \n",
       "6                     0.0               1                 0.000000   \n",
       "7                     0.0               0                 0.000000   \n",
       "\n",
       "   BounceRates  ExitRates  PageValues  Month_Aug  ...  Browser_7  Browser_8  \\\n",
       "0     0.200000   0.200000         0.0          0  ...          0          0   \n",
       "1     0.000000   0.100000         0.0          0  ...          0          0   \n",
       "5     0.015789   0.024561         0.0          0  ...          0          0   \n",
       "6     0.200000   0.200000         0.0          0  ...          0          0   \n",
       "7     0.200000   0.200000         0.0          0  ...          0          0   \n",
       "\n",
       "   Browser_10  Browser_12  VisitorType_New_Visitor  VisitorType_Other  \\\n",
       "0           0           0                        0                  0   \n",
       "1           0           0                        0                  0   \n",
       "5           0           0                        0                  0   \n",
       "6           0           0                        0                  0   \n",
       "7           0           0                        0                  0   \n",
       "\n",
       "   VisitorType_Returning_Visitor  Weekend_0  Weekend_1  Revenue  \n",
       "0                              1          1          0        0  \n",
       "1                              1          1          0        0  \n",
       "5                              1          1          0        0  \n",
       "6                              1          1          0        0  \n",
       "7                              1          0          1        0  \n",
       "\n",
       "[5 rows x 36 columns]"
      ]
     },
     "execution_count": 17,
     "metadata": {},
     "output_type": "execute_result"
    }
   ],
   "source": [
    "nonum_feats_names = ['Month','OperatingSystems','Browser','VisitorType','Weekend']\n",
    "\n",
    "\n",
    "df1 = pd.concat([df[['Administrative', 'Administrative_Duration', 'Informational','Informational_Duration', \n",
    "                              'ProductRelated','ProductRelated_Duration','BounceRates','ExitRates','PageValues']],\n",
    "                       pd.get_dummies(df[nonum_feats_names].astype('category')),df['Revenue']],axis=1)\n",
    "                      \n",
    "df1.head()"
   ]
  },
  {
   "cell_type": "markdown",
   "id": "5df97263",
   "metadata": {},
   "source": [
    "### Data Split"
   ]
  },
  {
   "cell_type": "code",
   "execution_count": 18,
   "id": "7e40693b",
   "metadata": {},
   "outputs": [
    {
     "name": "stdout",
     "output_type": "stream",
     "text": [
      "Feature columns:\n",
      "\n",
      " ['Administrative', 'Administrative_Duration', 'Informational', 'Informational_Duration', 'ProductRelated', 'ProductRelated_Duration', 'BounceRates', 'ExitRates', 'PageValues', 'Month', 'OperatingSystems', 'Browser', 'VisitorType', 'Weekend']\n"
     ]
    }
   ],
   "source": [
    "# Extract feature columns\n",
    "feature_cols = list(df.columns[:-1])\n",
    "print(\"Feature columns:\\n\\n\",feature_cols)"
   ]
  },
  {
   "cell_type": "code",
   "execution_count": 19,
   "id": "162e2568",
   "metadata": {},
   "outputs": [
    {
     "name": "stdout",
     "output_type": "stream",
     "text": [
      "\n",
      "Target column:  Revenue\n"
     ]
    }
   ],
   "source": [
    "# Extract target column\n",
    "target_col = df.columns[-1]\n",
    "print(\"\\nTarget column: \",target_col)"
   ]
  },
  {
   "cell_type": "code",
   "execution_count": 20,
   "id": "aef9b9be",
   "metadata": {},
   "outputs": [],
   "source": [
    "y = df1['Revenue']\n",
    "X = df1.drop(['Revenue'], axis=1)"
   ]
  },
  {
   "cell_type": "code",
   "execution_count": 21,
   "id": "907ff34c",
   "metadata": {},
   "outputs": [],
   "source": [
    "X_train, X_test, y_train, y_test = train_test_split(X,y,test_size=0.4,random_state=0)"
   ]
  },
  {
   "cell_type": "code",
   "execution_count": 22,
   "id": "080bd276",
   "metadata": {},
   "outputs": [
    {
     "name": "stdout",
     "output_type": "stream",
     "text": [
      "Training set has  2784  samples.\n",
      "Testing set has  1856  samples.\n"
     ]
    }
   ],
   "source": [
    "print(\"Training set has \",X_train.shape[0], \" samples.\")\n",
    "print(\"Testing set has \",X_test.shape[0], \" samples.\")"
   ]
  },
  {
   "cell_type": "markdown",
   "id": "91a25f0f",
   "metadata": {},
   "source": [
    "### 2.3 Label Encoding"
   ]
  },
  {
   "cell_type": "code",
   "execution_count": 23,
   "id": "fc44a7b8",
   "metadata": {},
   "outputs": [
    {
     "name": "stdout",
     "output_type": "stream",
     "text": [
      "Shape of x: (4640, 35)\n",
      "Shape of y: (4640,)\n"
     ]
    }
   ],
   "source": [
    "#Label Encoding of revenue\n",
    "\n",
    "\n",
    "\n",
    "from sklearn.preprocessing import LabelEncoder\n",
    "\n",
    "le = LabelEncoder()\n",
    "df['Revenue'] = le.fit_transform(df['Revenue'])\n",
    "df['Revenue'].value_counts()\n",
    "\n",
    "df['Revenue'].head()\n",
    "\n",
    "# getting dependent and independent variables\n",
    "\n",
    "x = df1\n",
    "# removing the target column revenue from x\n",
    "x = x.drop(['Revenue'], axis = 1)\n",
    "\n",
    "y = df['Revenue']\n",
    "\n",
    "# checking the shapes\n",
    "print(\"Shape of x:\", x.shape)\n",
    "print(\"Shape of y:\", y.shape)"
   ]
  },
  {
   "cell_type": "markdown",
   "id": "526e4530",
   "metadata": {},
   "source": [
    "### 2.4  Stanndardisation/Normalization"
   ]
  },
  {
   "cell_type": "markdown",
   "id": "7f3db77a",
   "metadata": {},
   "source": [
    "We will scale the features in our subsets, in order to use them to train, validate, and test models that will benefit from feature scaling.  "
   ]
  },
  {
   "cell_type": "code",
   "execution_count": 24,
   "id": "4aaa9bbe",
   "metadata": {},
   "outputs": [],
   "source": [
    "scaler = StandardScaler()\n",
    "\n",
    "scaler_train = scaler.fit_transform(X_train)\n",
    "\n",
    "scaler_test = scaler.fit_transform(X_test)\n"
   ]
  },
  {
   "cell_type": "markdown",
   "id": "e241a011",
   "metadata": {},
   "source": [
    "## 3 .Exploratory Data Analysis (EDA)"
   ]
  },
  {
   "cell_type": "markdown",
   "id": "afabd8ab",
   "metadata": {},
   "source": [
    "### 3.1 Uni-Variate Analysis of the Data"
   ]
  },
  {
   "cell_type": "code",
   "execution_count": 25,
   "id": "faf3374e",
   "metadata": {},
   "outputs": [
    {
     "data": {
      "text/plain": [
       "Text(0, 0.5, 'count')"
      ]
     },
     "execution_count": 25,
     "metadata": {},
     "output_type": "execute_result"
    },
    {
     "data": {
      "image/png": "[encoded data removed]",
      "text/plain": [
       "<Figure size 576x360 with 1 Axes>"
      ]
     },
     "metadata": {
      "needs_background": "light"
     },
     "output_type": "display_data"
    }
   ],
   "source": [
    "# checking the Distribution of customers on Weekend\n",
    "plt.subplots(figsize=(8,5))\n",
    "sns.countplot(df['Weekend'], palette = 'inferno')\n",
    "plt.title('Purchase on Weekends', fontsize = 20)\n",
    "plt.xlabel('Weekend or not', fontsize = 15)\n",
    "plt.ylabel('count', fontsize = 15)\n"
   ]
  },
  {
   "cell_type": "markdown",
   "id": "6170433f",
   "metadata": {},
   "source": [
    "##### Page Metrics Analysis"
   ]
  },
  {
   "cell_type": "code",
   "execution_count": 26,
   "id": "0bbeb1f2",
   "metadata": {},
   "outputs": [
    {
     "data": {
      "text/plain": [
       "<function matplotlib.pyplot.show(close=None, block=None)>"
      ]
     },
     "execution_count": 26,
     "metadata": {},
     "output_type": "execute_result"
    },
    {
     "data": {
      "image/png": "[encoded data removed]",
      "text/plain": [
       "<Figure size 1152x288 with 3 Axes>"
      ]
     },
     "metadata": {
      "needs_background": "light"
     },
     "output_type": "display_data"
    }
   ],
   "source": [
    "fig = plt.figure(figsize=(16, 4))\n",
    "\n",
    "ax1 = fig.add_subplot(1, 3, 1)\n",
    "ax2 = fig.add_subplot(1, 3, 2)\n",
    "ax3 = fig.add_subplot(1, 3, 3)\n",
    "\n",
    "sns.distplot(df['BounceRates'], bins=20, ax=ax1)\n",
    "sns.distplot(df['ExitRates'], bins=20, ax=ax2)\n",
    "sns.distplot(df['PageValues'], bins=20, ax=ax3)\n",
    "\n",
    "\n",
    "plt.show"
   ]
  },
  {
   "cell_type": "markdown",
   "id": "3d427cb0",
   "metadata": {},
   "source": [
    "From the above visualizations of  analytics metrics, we can conclude: \n",
    "- *BounceRates* & *PageValues* do not follow a normal distribution. \n",
    "- All 3 features have distributions that are skewed right. \n",
    "- All 3 distributions have a lot of outliers"
   ]
  },
  {
   "cell_type": "code",
   "execution_count": 27,
   "id": "6061861a",
   "metadata": {},
   "outputs": [
    {
     "data": {
      "text/plain": [
       "Returning_Visitor    3950\n",
       "New_Visitor           674\n",
       "Other                  16\n",
       "Name: VisitorType, dtype: int64"
      ]
     },
     "execution_count": 27,
     "metadata": {},
     "output_type": "execute_result"
    }
   ],
   "source": [
    "#Visitor Type Count\n",
    "df['VisitorType'].value_counts()"
   ]
  },
  {
   "cell_type": "code",
   "execution_count": 28,
   "id": "7677d05a",
   "metadata": {},
   "outputs": [
    {
     "data": {
      "text/plain": [
       "2    3218\n",
       "1    1422\n",
       "Name: OperatingSystems, dtype: int64"
      ]
     },
     "execution_count": 28,
     "metadata": {},
     "output_type": "execute_result"
    }
   ],
   "source": [
    "# checking the no. of OSes each user is having\n",
    "\n",
    "df['OperatingSystems'].value_counts()"
   ]
  },
  {
   "cell_type": "markdown",
   "id": "dfb52f94",
   "metadata": {},
   "source": [
    "#### Visit Date Analysis"
   ]
  },
  {
   "cell_type": "code",
   "execution_count": 29,
   "id": "ebeb8b1e",
   "metadata": {},
   "outputs": [
    {
     "data": {
      "text/plain": [
       "May     1407\n",
       "Mar      857\n",
       "Nov      854\n",
       "Dec      614\n",
       "Oct      181\n",
       "Aug      160\n",
       "Sep      159\n",
       "Jul      155\n",
       "Feb      132\n",
       "June     121\n",
       "Name: Month, dtype: int64"
      ]
     },
     "execution_count": 29,
     "metadata": {},
     "output_type": "execute_result"
    }
   ],
   "source": [
    "#checking the months with most no.of customers visiting the online shopping sites\n",
    "\n",
    "df['Month'].value_counts()"
   ]
  },
  {
   "cell_type": "code",
   "execution_count": 30,
   "id": "089f11b9",
   "metadata": {},
   "outputs": [
    {
     "data": {
      "image/png": "[encoded data removed]",
      "text/plain": [
       "<Figure size 1296x864 with 1 Axes>"
      ]
     },
     "metadata": {
      "needs_background": "light"
     },
     "output_type": "display_data"
    }
   ],
   "source": [
    "fig = plt.figure(figsize=(18, 12))\n",
    "\n",
    "ax1 = fig.add_subplot(2, 1, 1)\n",
    "\n",
    "orderlist = ['Jan','Feb','Mar','Apr','May','June','Jul','Aug','Sep','Oct','Nov','Dec']\n",
    "sns.countplot(data=df, x='Month', hue='Revenue', ax=ax1, order=orderlist)\n",
    "\n",
    "\n",
    "plt.tight_layout()\n",
    "plt.show()"
   ]
  },
  {
   "cell_type": "markdown",
   "id": "f1eb5796",
   "metadata": {},
   "source": [
    "- On March and May, we have a lot of visits (May is the month with the highest number of visits) \n",
    "- We have no visits at all during Jan nor Apr.\n",
    "- Most transactions happen during the end of the year, with Nov as the month with the highest number of confirmed transactions"
   ]
  },
  {
   "cell_type": "markdown",
   "id": "f53e324a",
   "metadata": {},
   "source": [
    "### 3.2 Bi-Variate Analysis"
   ]
  },
  {
   "cell_type": "code",
   "execution_count": 31,
   "id": "b9c5d333",
   "metadata": {},
   "outputs": [
    {
     "data": {
      "image/png": "[encoded data removed]",
      "text/plain": [
       "<Figure size 1080x864 with 4 Axes>"
      ]
     },
     "metadata": {
      "needs_background": "light"
     },
     "output_type": "display_data"
    }
   ],
   "source": [
    "\n",
    "\n",
    "plt.rcParams['figure.figsize'] = (15, 12)\n",
    "\n",
    "plt.subplot(2, 2, 1)\n",
    "sns.boxenplot(df['Revenue'], df['ExitRates'], palette = 'spring')\n",
    "plt.title('ExitRates vs Revenue', fontsize =15)\n",
    "plt.xlabel('ExitRates', fontsize = 10)\n",
    "plt.ylabel('Revenue', fontsize = 10)\n",
    "\n",
    "\n",
    "plt.subplot(2, 2, 2)\n",
    "sns.boxenplot(df['Revenue'], df['Administrative_Duration'], palette = 'pastel')\n",
    "plt.title('Admn. duration vs Revenue', fontsize = 15)\n",
    "plt.xlabel('Admn. duration', fontsize = 10)\n",
    "plt.ylabel('Revenue', fontsize = 10)\n",
    "\n",
    "plt.subplot(2, 2, 3)\n",
    "sns.boxenplot(df['Revenue'], df['BounceRates'], palette = 'pastel')\n",
    "plt.title('BounceRates vs Revenue', fontsize = 15)\n",
    "plt.xlabel('BounceRates', fontsize = 10)\n",
    "plt.ylabel('Revenue', fontsize = 10)\n",
    "\n",
    "\n",
    "plt.subplot(2, 2, 4)\n",
    "sns.boxplot(df['Revenue'], df['ProductRelated_Duration'], palette = 'rainbow')\n",
    "plt.title('ProductRelated_Duration vs Revenue', fontsize = 15)\n",
    "plt.xlabel('ProductRelated_Duration', fontsize = 10)\n",
    "plt.ylabel('Revenue', fontsize = 10)\n",
    "\n",
    "\n",
    "plt.show()"
   ]
  },
  {
   "cell_type": "code",
   "execution_count": 32,
   "id": "e30be73c",
   "metadata": {},
   "outputs": [
    {
     "data": {
      "image/png": "[encoded data removed]",
      "text/plain": [
       "<Figure size 720x360 with 1 Axes>"
      ]
     },
     "metadata": {
      "needs_background": "light"
     },
     "output_type": "display_data"
    }
   ],
   "source": [
    "# visitor type vs revenue\n",
    "\n",
    "df_revenue = pd.crosstab(df['VisitorType'], df['Revenue'])\n",
    "df_revenue.div(df_revenue.sum(1).astype(float), axis = 0).plot(kind = 'bar', stacked = True, figsize = (10,5), color = ['lightgreen', 'green'])\n",
    "plt.title('Visitor Type vs Revenue', fontsize = 15)\n",
    "plt.show()"
   ]
  },
  {
   "cell_type": "code",
   "execution_count": 33,
   "id": "b5a1f086",
   "metadata": {},
   "outputs": [
    {
     "data": {
      "text/plain": [
       "Index(['Administrative', 'Administrative_Duration', 'Informational',\n",
       "       'Informational_Duration', 'ProductRelated', 'ProductRelated_Duration',\n",
       "       'BounceRates', 'ExitRates', 'PageValues', 'Month', 'OperatingSystems',\n",
       "       'Browser', 'VisitorType', 'Weekend', 'Revenue'],\n",
       "      dtype='object')"
      ]
     },
     "execution_count": 33,
     "metadata": {},
     "output_type": "execute_result"
    }
   ],
   "source": [
    "df.columns"
   ]
  },
  {
   "cell_type": "markdown",
   "id": "b9a07a00",
   "metadata": {},
   "source": [
    "##  4.Modelling"
   ]
  },
  {
   "cell_type": "markdown",
   "id": "6289a307",
   "metadata": {},
   "source": [
    "The modelling can be easily done using a **cross_val_score**"
   ]
  },
  {
   "cell_type": "code",
   "execution_count": 34,
   "id": "ef9ef54c",
   "metadata": {},
   "outputs": [],
   "source": [
    "models = [DecisionTreeClassifier(),KNeighborsClassifier(),LogisticRegression(),  \n",
    "            RandomForestClassifier(), SVC(),GradientBoostingClassifier()]\n",
    "\n",
    "\n",
    "recall = []\n",
    "accuracy = []\n",
    "f1=[]\n",
    "precision=[]\n",
    "\n",
    "\n",
    "for classifier in models:\n",
    "    pred = cross_val_score(classifier, X_train, y_train, scoring='recall', cv=7).mean()\n",
    "    recall.append(pred)\n",
    "\n",
    "    pred = cross_val_score(classifier, X_train, y_train, scoring='accuracy', cv=7).mean()\n",
    "    accuracy.append(pred)\n",
    "    \n",
    "    pred = cross_val_score(classifier, X_train, y_train, scoring='precision', cv=7).mean()\n",
    "    precision.append(pred)\n",
    "    \n",
    "    pred = cross_val_score(classifier, X_train, y_train, scoring='f1', cv=7).mean()\n",
    "    f1.append(pred)\n",
    "    "
   ]
  },
  {
   "cell_type": "code",
   "execution_count": 35,
   "id": "57fb09d5",
   "metadata": {},
   "outputs": [
    {
     "data": {
      "text/html": [
       "<div>\n",
       "<style scoped>\n",
       "    .dataframe tbody tr th:only-of-type {\n",
       "        vertical-align: middle;\n",
       "    }\n",
       "\n",
       "    .dataframe tbody tr th {\n",
       "        vertical-align: top;\n",
       "    }\n",
       "\n",
       "    .dataframe thead th {\n",
       "        text-align: right;\n",
       "    }\n",
       "</style>\n",
       "<table border=\"1\" class=\"dataframe\">\n",
       "  <thead>\n",
       "    <tr style=\"text-align: right;\">\n",
       "      <th></th>\n",
       "      <th>Model</th>\n",
       "      <th>Accuracy</th>\n",
       "      <th>Recall</th>\n",
       "      <th>Precision</th>\n",
       "      <th>F1score</th>\n",
       "    </tr>\n",
       "  </thead>\n",
       "  <tbody>\n",
       "    <tr>\n",
       "      <th>0</th>\n",
       "      <td>DecisionTreeClassifier</td>\n",
       "      <td>0.948994</td>\n",
       "      <td>0.164502</td>\n",
       "      <td>0.134458</td>\n",
       "      <td>0.183429</td>\n",
       "    </tr>\n",
       "    <tr>\n",
       "      <th>1</th>\n",
       "      <td>KNeighborsClassifier</td>\n",
       "      <td>0.970546</td>\n",
       "      <td>0.012987</td>\n",
       "      <td>0.071429</td>\n",
       "      <td>0.021978</td>\n",
       "    </tr>\n",
       "    <tr>\n",
       "      <th>2</th>\n",
       "      <td>LogisticRegression</td>\n",
       "      <td>0.971265</td>\n",
       "      <td>0.000000</td>\n",
       "      <td>0.000000</td>\n",
       "      <td>0.000000</td>\n",
       "    </tr>\n",
       "    <tr>\n",
       "      <th>3</th>\n",
       "      <td>SVC</td>\n",
       "      <td>0.970905</td>\n",
       "      <td>0.000000</td>\n",
       "      <td>0.000000</td>\n",
       "      <td>0.000000</td>\n",
       "    </tr>\n",
       "    <tr>\n",
       "      <th>4</th>\n",
       "      <td>RandomForestClassifier</td>\n",
       "      <td>0.971265</td>\n",
       "      <td>0.000000</td>\n",
       "      <td>0.000000</td>\n",
       "      <td>0.000000</td>\n",
       "    </tr>\n",
       "    <tr>\n",
       "      <th>5</th>\n",
       "      <td>GradientBoosting</td>\n",
       "      <td>0.969109</td>\n",
       "      <td>0.024892</td>\n",
       "      <td>0.095238</td>\n",
       "      <td>0.039456</td>\n",
       "    </tr>\n",
       "  </tbody>\n",
       "</table>\n",
       "</div>"
      ],
      "text/plain": [
       "                    Model  Accuracy    Recall  Precision   F1score\n",
       "0  DecisionTreeClassifier  0.948994  0.164502   0.134458  0.183429\n",
       "1    KNeighborsClassifier  0.970546  0.012987   0.071429  0.021978\n",
       "2      LogisticRegression  0.971265  0.000000   0.000000  0.000000\n",
       "3                     SVC  0.970905  0.000000   0.000000  0.000000\n",
       "4  RandomForestClassifier  0.971265  0.000000   0.000000  0.000000\n",
       "5        GradientBoosting  0.969109  0.024892   0.095238  0.039456"
      ]
     },
     "execution_count": 35,
     "metadata": {},
     "output_type": "execute_result"
    }
   ],
   "source": [
    "class_model = ['DecisionTreeClassifier','KNeighborsClassifier','LogisticRegression', 'SVC',\n",
    "         'RandomForestClassifier','GradientBoosting']\n",
    "\n",
    "result = pd.DataFrame({'Model': class_model, 'Accuracy': accuracy, 'Recall': recall, 'Precision':precision, 'F1score':f1})\n",
    "result"
   ]
  },
  {
   "cell_type": "markdown",
   "id": "123dbf3c",
   "metadata": {},
   "source": [
    "##  5. Model Tuning"
   ]
  },
  {
   "cell_type": "markdown",
   "id": "666b19f2",
   "metadata": {},
   "source": [
    "- **SVC and Randomforest high Accuracy**\n",
    "- **So we can tune both using hyper parameters**"
   ]
  },
  {
   "cell_type": "markdown",
   "id": "c9fa2d3e",
   "metadata": {},
   "source": [
    "#### 1.Decision Tree Classifier"
   ]
  },
  {
   "cell_type": "code",
   "execution_count": 36,
   "id": "f0a41141",
   "metadata": {},
   "outputs": [
    {
     "name": "stdout",
     "output_type": "stream",
     "text": [
      "Fitting 5 folds for each of 648 candidates, totalling 3240 fits\n"
     ]
    },
    {
     "data": {
      "text/plain": [
       "GridSearchCV(cv=5, estimator=DecisionTreeClassifier(), n_jobs=-1,\n",
       "             param_grid=[{'criterion': ['gini', 'entropy'],\n",
       "                          'max_depth': range(1, 10),\n",
       "                          'min_samples_leaf': [1, 2, 5, 10],\n",
       "                          'min_samples_split': range(1, 10)}],\n",
       "             scoring='f1', verbose=True)"
      ]
     },
     "execution_count": 36,
     "metadata": {},
     "output_type": "execute_result"
    }
   ],
   "source": [
    "parameters = [{\n",
    "    \"criterion\": ['gini','entropy'],\n",
    "    \"max_depth\": range(1,10),\n",
    "    \"min_samples_split\": range(1,10), \n",
    "    \"min_samples_leaf\": [1,2,5,10],\n",
    "             }]\n",
    "\n",
    "dt = GridSearchCV(DecisionTreeClassifier(),\n",
    "                  parameters, \n",
    "                  cv=5, n_jobs=-1,\n",
    "                  scoring='f1', \n",
    "                  verbose=True)\n",
    "\n",
    "dt.fit(X_train,y_train)"
   ]
  },
  {
   "cell_type": "code",
   "execution_count": 37,
   "id": "d74a653f",
   "metadata": {},
   "outputs": [
    {
     "name": "stdout",
     "output_type": "stream",
     "text": [
      "{'criterion': 'gini', 'max_depth': 9, 'min_samples_leaf': 1, 'min_samples_split': 5}\n",
      "DecisionTreeClassifier(max_depth=9, min_samples_split=5)\n"
     ]
    }
   ],
   "source": [
    "print(dt.best_params_)\n",
    "print(dt.best_estimator_)"
   ]
  },
  {
   "cell_type": "code",
   "execution_count": 38,
   "id": "43ec440d",
   "metadata": {},
   "outputs": [
    {
     "data": {
      "text/plain": [
       "0.9671336206896551"
      ]
     },
     "execution_count": 38,
     "metadata": {},
     "output_type": "execute_result"
    }
   ],
   "source": [
    "# Decision Tree with best parameters\n",
    "gs_dt = DecisionTreeClassifier(criterion='gini', \n",
    "                               max_depth= 6, \n",
    "                               min_samples_leaf=1, \n",
    "                               min_samples_split=2,)\n",
    "gs_dt.fit(X_train, y_train)\n",
    "gs_dt.score(X_test,y_test)"
   ]
  },
  {
   "cell_type": "markdown",
   "id": "5bd0aafb",
   "metadata": {},
   "source": [
    "#### 2.Random Forest Classifier"
   ]
  },
  {
   "cell_type": "code",
   "execution_count": 39,
   "id": "179c2e7c",
   "metadata": {},
   "outputs": [
    {
     "name": "stdout",
     "output_type": "stream",
     "text": [
      "Parameters currently in use:\n",
      "\n",
      "{'bootstrap': True,\n",
      " 'ccp_alpha': 0.0,\n",
      " 'class_weight': None,\n",
      " 'criterion': 'gini',\n",
      " 'max_depth': None,\n",
      " 'max_features': 'auto',\n",
      " 'max_leaf_nodes': None,\n",
      " 'max_samples': None,\n",
      " 'min_impurity_decrease': 0.0,\n",
      " 'min_impurity_split': None,\n",
      " 'min_samples_leaf': 1,\n",
      " 'min_samples_split': 2,\n",
      " 'min_weight_fraction_leaf': 0.0,\n",
      " 'n_estimators': 100,\n",
      " 'n_jobs': None,\n",
      " 'oob_score': False,\n",
      " 'random_state': None,\n",
      " 'verbose': 0,\n",
      " 'warm_start': False}\n"
     ]
    },
    {
     "data": {
      "text/plain": [
       "RandomForestClassifier(max_depth=1000, n_estimators=500, random_state=42)"
      ]
     },
     "execution_count": 39,
     "metadata": {},
     "output_type": "execute_result"
    }
   ],
   "source": [
    "rf=RandomForestClassifier()\n",
    "rf.fit(X_train,y_train)\n",
    "\n",
    "print('Parameters currently in use:\\n')\n",
    "pprint(rf.get_params())\n",
    "\n",
    "rft=RandomForestClassifier(n_estimators=500,max_depth=1000,random_state=42,criterion='gini')\n",
    "rft.fit(X_train,y_train)"
   ]
  },
  {
   "cell_type": "code",
   "execution_count": 40,
   "id": "d510faf2",
   "metadata": {},
   "outputs": [
    {
     "name": "stdout",
     "output_type": "stream",
     "text": [
      "Accuracy score is: 0.9757543103448276\n",
      "F1 score is: 0.042553191489361694\n"
     ]
    }
   ],
   "source": [
    "pred=rft.predict(X_test)\n",
    "accuracy_score(y_test,pred)\n",
    "print('Accuracy score is:', accuracy_score(y_test,pred))\n",
    "print('F1 score is:', f1_score(y_test,pred))"
   ]
  },
  {
   "cell_type": "markdown",
   "id": "baaf407d",
   "metadata": {},
   "source": [
    "#### 3.SVC Tuning"
   ]
  },
  {
   "cell_type": "code",
   "execution_count": 41,
   "id": "4452f59f",
   "metadata": {},
   "outputs": [
    {
     "name": "stdout",
     "output_type": "stream",
     "text": [
      "{'C': 0.1, 'break_ties': False, 'cache_size': 200, 'class_weight': None, 'coef0': 0.0, 'decision_function_shape': 'ovr', 'degree': 3, 'gamma': 1, 'kernel': 'rbf', 'max_iter': -1, 'probability': False, 'random_state': None, 'shrinking': True, 'tol': 0.001, 'verbose': False}\n"
     ]
    },
    {
     "data": {
      "text/plain": [
       "SVC(C=0.1, gamma=1)"
      ]
     },
     "execution_count": 41,
     "metadata": {},
     "output_type": "execute_result"
    }
   ],
   "source": [
    "\n",
    "svc = SVC(C=0.1 , gamma = 1 , kernel = 'rbf')\n",
    "print(svc.get_params())\n",
    "svc.fit(X_train,y_train)"
   ]
  },
  {
   "cell_type": "code",
   "execution_count": 42,
   "id": "ff9cc5e7",
   "metadata": {},
   "outputs": [
    {
     "name": "stdout",
     "output_type": "stream",
     "text": [
      "Accuracy score is: 0.9752155172413793\n",
      "F1 score is: 0.0\n"
     ]
    }
   ],
   "source": [
    "pred=svc.predict(X_test)\n",
    "print('Accuracy score is:', accuracy_score(y_test,pred))\n",
    "print('F1 score is:', f1_score(y_test,pred))\n"
   ]
  },
  {
   "cell_type": "markdown",
   "id": "a05def0c",
   "metadata": {},
   "source": [
    "**Inferece:**\n",
    "  - By hyper parameter tuning it's clearly visible that there is increase in th performance.\n",
    "  - Incase of Decisiontree there is a high change\n",
    "  - So from the analysis we can infer that Randomforest classifier has highest accuracy score.\n",
    " \n",
    "**The best classification performance:**\n",
    "\n",
    "   ***Accuracy score is: 97.58***\n",
    "\n",
    "   ***F1 score is: 0.043***"
   ]
  },
  {
   "cell_type": "markdown",
   "id": "9dba2d7a",
   "metadata": {},
   "source": [
    "**REFERENCES:::**https://link.springer.com/article/10.1007%2Fs00521-018-3523-0"
   ]
  }
 ],
 "metadata": {
  "kernelspec": {
   "display_name": "Python 3.8.8 64-bit ('base': conda)",
   "language": "python",
   "name": "python388jvsc74a57bd0b3ba2566441a7c06988d0923437866b63cedc61552a5af99d1f4fb67d367b25f"
  },
  "language_info": {
   "codemirror_mode": {
    "name": "ipython",
    "version": 3
   },
   "file_extension": ".py",
   "mimetype": "text/x-python",
   "name": "python",
   "nbconvert_exporter": "python",
   "pygments_lexer": "ipython3",
   "version": "3.8.8"
  }
 },
 "nbformat": 4,
 "nbformat_minor": 5
}

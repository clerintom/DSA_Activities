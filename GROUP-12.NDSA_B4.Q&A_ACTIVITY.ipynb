{
 "cells": [
  {
   "cell_type": "markdown",
   "metadata": {
    "id": "4z_Z-K1tlrS7"
   },
   "source": [
    "## 1. Complete the following code to find the area of an equilateral triangle. Output should be as displayed"
   ]
  },
  {
   "cell_type": "code",
   "execution_count": 1,
   "metadata": {
    "id": "rP2qFD_SlrS_"
   },
   "outputs": [
    {
     "name": "stdout",
     "output_type": "stream",
     "text": [
      "Enter the side of the equilateral triangle: 4\n",
      "6.928203230275509\n"
     ]
    }
   ],
   "source": [
    "import math\n",
    "side = float(input(\"Enter the side of the equilateral triangle: \"))\n",
    "area = ((math.sqrt(3))/4)*pow(side,2)\n",
    "print(area)\n"
   ]
  },
  {
   "cell_type": "markdown",
   "metadata": {
    "id": "TjVKjIfclrTB"
   },
   "source": [
    "## 2. Write a program to count the number of each characters in a string"
   ]
  },
  {
   "cell_type": "code",
   "execution_count": 26,
   "metadata": {
    "id": "JY5seVUQlrTC"
   },
   "outputs": [
    {
     "name": "stdout",
     "output_type": "stream",
     "text": [
      "Enter a string::aabbccddaa\n",
      "Count of all characters is :\n",
      " {'a': 4, 'b': 2, 'c': 2, 'd': 2}\n"
     ]
    }
   ],
   "source": [
    "string=input(\"Enter a string::\")\n",
    "\n",
    "count_char = {}\n",
    "  \n",
    "for i in string:\n",
    "    if i in count_char:\n",
    "        count_char[i] += 1\n",
    "    else:\n",
    "        count_char[i] = 1\n",
    "        \n",
    "        \n",
    "print(\"Count of all characters is :\\n {}\".format(count_char))  \n"
   ]
  },
  {
   "cell_type": "markdown",
   "metadata": {
    "id": "l3LCULfklrTD"
   },
   "source": [
    "## 3.Write a program to find the area and perimeter of a rectangle using functions"
   ]
  },
  {
   "cell_type": "code",
   "execution_count": 1,
   "metadata": {
    "id": "8haQD8edlrTD"
   },
   "outputs": [
    {
     "name": "stdout",
     "output_type": "stream",
     "text": [
      "Enter length of rec ::2\n",
      "Enter breadth of rec ::2\n",
      "area is:: 4\n",
      "perimeter is:: 8\n"
     ]
    }
   ],
   "source": [
    "length=int(input(\"Enter length of rec ::\"))\n",
    "breadth=int(input(\"Enter breadth of rec ::\"))\n",
    "def rect_area_peri(l,b):\n",
    "    area=l*b\n",
    "    perimeter=2*(l+b)\n",
    "    return area,perimeter\n",
    "\n",
    "area,perimeter= rect_area_peri(length,breadth)\n",
    "print(\"area is::\",area)\n",
    "print(\"perimeter is::\",perimeter)"
   ]
  },
  {
   "cell_type": "markdown",
   "metadata": {
    "id": "JHK4ZdsflrTE"
   },
   "source": [
    "## 4. Write a program to print the fibonacci series till a specified number"
   ]
  },
  {
   "cell_type": "code",
   "execution_count": 27,
   "metadata": {
    "id": "LyBEj-4SlrTE"
   },
   "outputs": [
    {
     "name": "stdout",
     "output_type": "stream",
     "text": [
      "Enter a limit: 10\n",
      "fibonacci Series is:\n",
      "0\n",
      "1\n",
      "1\n",
      "2\n",
      "3\n",
      "5\n",
      "8\n"
     ]
    }
   ],
   "source": [
    "limit=int(input(\"Enter a limit: \"))\n",
    "a=0\n",
    "b=1\n",
    "z=0\n",
    "print(\"fibonacci Series is:\")\n",
    "while(z<=limit):\n",
    "    print(z)\n",
    "    a=b\n",
    "    b=z\n",
    "    z=a+b\n"
   ]
  },
  {
   "cell_type": "markdown",
   "metadata": {
    "id": "u4uBUcQKlrTE"
   },
   "source": [
    "## 5. Complete the following code to find the minimum of 3 number using conditional statements. Output should be as displayed"
   ]
  },
  {
   "cell_type": "code",
   "execution_count": 30,
   "metadata": {
    "id": "XdZwrZjIlrTF"
   },
   "outputs": [
    {
     "name": "stdout",
     "output_type": "stream",
     "text": [
      "Enter three numbers followed by  :  1 2 2\n",
      "First number : 1\n",
      "Second number : 2\n",
      "Third number : 2\n",
      "1  is smallest\n"
     ]
    }
   ],
   "source": [
    "a,b,c = input(\"Enter three numbers followed by  : \").split()\n",
    "\n",
    "print(\"First number :\",a)\n",
    "print(\"Second number :\",b)\n",
    "print(\"Third number :\",c)\n",
    "if a==b and b==c:\n",
    "    print(\"Entered numbers are equal!!!\")\n",
    "elif a<b and a<c:\n",
    "    print(a,\" is smallest\")\n",
    "elif b<a and b<c:\n",
    "    print(b,\" is smallest\")\n",
    "else:\n",
    "    print(c,\" is smallest\")"
   ]
  },
  {
   "cell_type": "markdown",
   "metadata": {
    "id": "aR_CnToWlrTG"
   },
   "source": [
    "## 6. Write a program to print star pyramind. The number of rows should be taken as input from the user"
   ]
  },
  {
   "cell_type": "code",
   "execution_count": 14,
   "metadata": {},
   "outputs": [
    {
     "name": "stdout",
     "output_type": "stream",
     "text": [
      "Enter number of rows: 8\n",
      "       * \n",
      "      * * \n",
      "     * * * \n",
      "    * * * * \n",
      "   * * * * * \n",
      "  * * * * * * \n",
      " * * * * * * * \n",
      "* * * * * * * * \n"
     ]
    }
   ],
   "source": [
    "rows=int(input(\"Enter number of rows: \"))\n",
    "k =rows-1\n",
    "for i in range(rows):\n",
    "    for j in range(0, k):\n",
    "        print(\" \",end=\"\")\n",
    "    k = k - 1\n",
    "    for j in range(i+1):\n",
    "        print(\"* \", end=\"\")\n",
    "    print()"
   ]
  },
  {
   "cell_type": "markdown",
   "metadata": {
    "id": "tlY6aFWBlrTH"
   },
   "source": [
    "## 7. Complete the following code to convert hour into seconds. Output should be as displayed"
   ]
  },
  {
   "cell_type": "code",
   "execution_count": 50,
   "metadata": {
    "id": "YOZQFk7FlrTH"
   },
   "outputs": [
    {
     "name": "stdout",
     "output_type": "stream",
     "text": [
      "Enter the hours : 2\n",
      "2  Hour is equal to 7200  Seconds\n"
     ]
    }
   ],
   "source": [
    "def to_seconds(t):\n",
    "    t=t*(60*60)\n",
    "    return t\n",
    "time_in_hours =int(input('Enter the hours : '))\n",
    "print(time_in_hours ,\" Hour is equal to\" ,to_seconds(time_in_hours) ,\" Seconds\")"
   ]
  },
  {
   "cell_type": "markdown",
   "metadata": {
    "id": "CnYorNiLlrTI"
   },
   "source": [
    "## 8. Write a program to print multiplication table as below"
   ]
  },
  {
   "cell_type": "code",
   "execution_count": 51,
   "metadata": {
    "id": "dPQqDPuDlrTI"
   },
   "outputs": [
    {
     "name": "stdout",
     "output_type": "stream",
     "text": [
      "Enter a Number :4\n",
      "Enter the limit :10\n",
      "The multiplication table for 4 is: \n",
      "4 * 1 = 4\n",
      "4 * 2 = 8\n",
      "4 * 3 = 12\n",
      "4 * 4 = 16\n",
      "4 * 5 = 20\n",
      "4 * 6 = 24\n",
      "4 * 7 = 28\n",
      "4 * 8 = 32\n",
      "4 * 9 = 36\n",
      "4 * 10 = 40\n"
     ]
    }
   ],
   "source": [
    "num=int(input('Enter a Number :'))\n",
    "limit=int(input('Enter the limit :'))\n",
    "print('The multiplication table for',num,'is: ')\n",
    "for i in range(1,limit+1):\n",
    "    print(num,'*',i,'=',num*i)"
   ]
  },
  {
   "cell_type": "markdown",
   "metadata": {
    "id": "Fiaez8iblrTI"
   },
   "source": [
    "## 9. Write a program to take your 5 favorite food as list and print each as 'I like Biriyani'"
   ]
  },
  {
   "cell_type": "code",
   "execution_count": 1,
   "metadata": {
    "id": "39W1zFX7lrTJ"
   },
   "outputs": [
    {
     "name": "stdout",
     "output_type": "stream",
     "text": [
      "Enter 5 favorite foods :\n",
      "dosa\n",
      " I like  dosa\n",
      "biriyani\n",
      " I like  biriyani\n",
      "icecream\n",
      " I like  icecream\n",
      "chappathi\n",
      " I like  chappathi\n",
      "friedrice\n",
      " I like  friedrice\n"
     ]
    }
   ],
   "source": [
    "items=[]\n",
    "print(\"Enter 5 favorite foods :\")\n",
    "for i in range(0,5):\n",
    "    food=str(input())\n",
    "    items.append(food)\n",
    "    print(\" I like \",items[i])\n"
   ]
  },
  {
   "cell_type": "markdown",
   "metadata": {
    "id": "3vlcDNNEP7d_"
   },
   "source": [
    "## 10. Find error(s) in the following code(if any) and rewrite code.\n",
    "\n"
   ]
  },
  {
   "cell_type": "code",
   "execution_count": 13,
   "metadata": {
    "id": "coREkcY3P9sG"
   },
   "outputs": [
    {
     "name": "stdout",
     "output_type": "stream",
     "text": [
      "Enter value of x: 6\n",
      "6 and 0 are unequal\n",
      "6 and 1 are unequal\n",
      "6 and 2 are unequal\n",
      "6 and 3 are unequal\n",
      "6 and 4 are unequal\n",
      "6 and 5 are unequal\n",
      "6 and 6 are equal\n",
      "6 and 7 are unequal\n",
      "6 and 8 are unequal\n",
      "6 and 9 are unequal\n"
     ]
    }
   ],
   "source": [
    "x= int(input(\"Enter value of x: \"))\n",
    "for y in range(0,10):\n",
    "    if x==y:\n",
    "        print(x,\"and\",y,\"are equal\")\n",
    "    else:\n",
    "        print(x,\"and\",y,\"are unequal\")"
   ]
  }
 ],
 "metadata": {
  "colab": {
   "collapsed_sections": [],
   "name": "Q&A activity student file.ipynb",
   "provenance": []
  },
  "kernelspec": {
   "display_name": "Python 3",
   "language": "python",
   "name": "python3"
  },
  "language_info": {
   "codemirror_mode": {
    "name": "ipython",
    "version": 3
   },
   "file_extension": ".py",
   "mimetype": "text/x-python",
   "name": "python",
   "nbconvert_exporter": "python",
   "pygments_lexer": "ipython3",
   "version": "3.8.8"
  }
 },
 "nbformat": 4,
 "nbformat_minor": 1
}

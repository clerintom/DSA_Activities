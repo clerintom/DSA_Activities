{
 "cells": [
  {
   "cell_type": "markdown",
   "id": "79310182",
   "metadata": {},
   "source": [
    "## Animal Quizz:: :::You can guess an answer to the question....!!!!"
   ]
  },
  {
   "cell_type": "code",
   "execution_count": 2,
   "id": "d2cd8177",
   "metadata": {},
   "outputs": [],
   "source": [
    "def quiz_guess(guessing,answer):\n",
    "    global score\n",
    "    guess= True\n",
    "    attempt = 0\n",
    "    while guess and attempt< 3:\n",
    "        if guessing.lower() == answer.lower():\n",
    "            print('Correct Answer!')\n",
    "            score = score + 2\n",
    "            guess = False\n",
    "        else:\n",
    "            if attempt < 2:\n",
    "                guessing = input('Sorry, wrong answer. Try again.')\n",
    "            attempt = attempt + 1\n",
    "\n",
    "        if attempt == 3:\n",
    "            print('The correct answer is ' + answer+'.')\n",
    "           \n",
    "            "
   ]
  },
  {
   "cell_type": "code",
   "execution_count": 3,
   "id": "810a4607",
   "metadata": {},
   "outputs": [
    {
     "name": "stdout",
     "output_type": "stream",
     "text": [
      "Welcome to Guessing the Animal Quizz.\n",
      "The rules for quiz are.\n",
      " 1. There will be 5 questions, where each question is worth 2 points.\n",
      " 2. Each question contains 3 attempts.\n",
      "3. The maximum overall score each player can get is 10.\n",
      " LET'S BEGIN!\n",
      "Please press ENTER to begin quiz.\n",
      "Which is the tallest animal?? giraffe\n",
      "Correct Answer!\n",
      "Belgian blue is a breed of which animal? cow\n",
      "Correct Answer!\n",
      "What counts for 99 percent of a panda’s diet bamboo\n",
      "Correct Answer!\n",
      "Which bird is considered to be the largest bird in the world? ostric\n",
      "Sorry, wrong answer. Try again.osrich\n",
      "Sorry, wrong answer. Try again.ostrich\n",
      "Correct Answer!\n",
      "Which animal is a universal symbol for peace? dove\n",
      "Correct Answer!\n",
      "Congratulations! You answered all of the questions correctly! Your score is 10.\n"
     ]
    }
   ],
   "source": [
    "score = 0 \n",
    "\n",
    "\n",
    "print('Welcome to Guessing the Animal Quizz.')\n",
    "print('The rules for quiz are.\\n 1. There will be 5 questions, where each question is worth 2 points.\\n 2. Each question contains 3 attempts.\\n3. The maximum overall score each player can get is 10.\\n LET\\'S BEGIN!')\n",
    "\n",
    "start = input('Please press ENTER to begin quiz.')\n",
    "\n",
    "\n",
    "guess1 = input('Which is the tallest animal?? ')\n",
    "quiz_guess (guess1, 'giraffe')\n",
    "\n",
    "\n",
    "guess2 = input('Belgian blue is a breed of which animal? ')\n",
    "quiz_guess (guess2, 'cow')\n",
    "\n",
    "guess3 = input('What counts for 99 percent of a panda’s diet ')\n",
    "quiz_guess (guess3, 'bamboo')\n",
    "\n",
    "guess4 = input('Which bird is considered to be the largest bird in the world? ')\n",
    "quiz_guess (guess4, 'ostrich')\n",
    "\n",
    "guess5 = input('Which animal is a universal symbol for peace? ')\n",
    "quiz_guess (guess5, 'dove')\n",
    "\n",
    "\n",
    "#Display score\n",
    "if score == 10:\n",
    "    print('Congratulations! You answered all of the questions correctly! Your score is ' + str(score)+'.')\n",
    "elif score >= 5:\n",
    "    print('Good Job! Your score is ' + str(score)+'.')\n",
    "else:\n",
    "    print('Try again next time. Your score is ' + str(score)+'.')"
   ]
  },
  {
   "cell_type": "code",
   "execution_count": null,
   "id": "62548543",
   "metadata": {},
   "outputs": [],
   "source": []
  },
  {
   "cell_type": "code",
   "execution_count": null,
   "id": "13d80cb4",
   "metadata": {},
   "outputs": [],
   "source": []
  }
 ],
 "metadata": {
  "kernelspec": {
   "display_name": "Python 3",
   "language": "python",
   "name": "python3"
  },
  "language_info": {
   "codemirror_mode": {
    "name": "ipython",
    "version": 3
   },
   "file_extension": ".py",
   "mimetype": "text/x-python",
   "name": "python",
   "nbconvert_exporter": "python",
   "pygments_lexer": "ipython3",
   "version": "3.8.8"
  }
 },
 "nbformat": 4,
 "nbformat_minor": 5
}

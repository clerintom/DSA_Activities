{
 "cells": [
  {
   "cell_type": "code",
   "execution_count": 28,
   "id": "50cde0ab",
   "metadata": {},
   "outputs": [
    {
     "name": "stdout",
     "output_type": "stream",
     "text": [
      "password picker\n",
      "password is:   beautifulUSA88(\n"
     ]
    }
   ],
   "source": [
    "import random\n",
    "samp_adjectives=['attractive','arrogant','beautiful','dark','expensive','clean','healthy','happy','lucky','nervous','naughty','perfrect','precious','rich','lovely','unsual']\n",
    "samp_noun=['able','mother','book','pencil','cat','dog','teacher','woman','computer','baby','father','lion','torch','active','address','bed','patience','violence','england','USA','Daniel','richard']\n",
    "samp_numb=list(range(0,100))\n",
    "samp_pun=['%','&','^','$','*','(',')',':''>','<',';','/','?']  \n",
    "\n",
    "adj=random.choice(samp_adjectives)\n",
    "noun=random.choice(samp_noun)\n",
    "num=random.choice(samp_numb)\n",
    "pun=random.choice(samp_pun)\n",
    "\n",
    "password=str(adj)+str(noun)+str(num)+str(pun)\n",
    "\n",
    "print(\"password picker\")\n",
    "print(\"password is:  \",password)"
   ]
  },
  {
   "cell_type": "code",
   "execution_count": null,
   "id": "e82e195d",
   "metadata": {},
   "outputs": [],
   "source": []
  }
 ],
 "metadata": {
  "kernelspec": {
   "display_name": "Python 3",
   "language": "python",
   "name": "python3"
  },
  "language_info": {
   "codemirror_mode": {
    "name": "ipython",
    "version": 3
   },
   "file_extension": ".py",
   "mimetype": "text/x-python",
   "name": "python",
   "nbconvert_exporter": "python",
   "pygments_lexer": "ipython3",
   "version": "3.8.8"
  }
 },
 "nbformat": 4,
 "nbformat_minor": 5
}
